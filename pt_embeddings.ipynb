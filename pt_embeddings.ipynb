{
 "cells": [
  {
   "cell_type": "code",
   "execution_count": 13,
   "metadata": {},
   "outputs": [],
   "source": [
    "import pickle\n",
    "import numpy as np\n"
   ]
  },
  {
   "cell_type": "code",
   "execution_count": 32,
   "metadata": {},
   "outputs": [],
   "source": [
    "with open('/Users/parkermoesta/Library/Mobile Documents/com~apple~CloudDocs/NLP_projects/Word Embedding Biases/NLP_word_embedding_bias/sgns/1800-vocab.pkl', 'rb') as f:\n",
    "    vocab_pkl = pickle.load(f)"
   ]
  },
  {
   "cell_type": "code",
   "execution_count": 33,
   "metadata": {},
   "outputs": [],
   "source": [
    "embeddings_npy = np.load('/Users/parkermoesta/Library/Mobile Documents/com~apple~CloudDocs/NLP_projects/Word Embedding Biases/NLP_word_embedding_bias/sgns/1800-w.npy')\n"
   ]
  },
  {
   "cell_type": "code",
   "execution_count": 35,
   "metadata": {},
   "outputs": [],
   "source": [
    "word_to_embedding = {word: embeddings_npy[i] for i, word in enumerate(vocab_pkl)}\n",
    "\n"
   ]
  },
  {
   "cell_type": "code",
   "execution_count": 37,
   "metadata": {},
   "outputs": [],
   "source": [
    "import pickle\n",
    "import numpy as np\n",
    "\n",
    "with open('/Users/parkermoesta/Library/Mobile Documents/com~apple~CloudDocs/NLP_projects/Word Embedding Biases/NLP_word_embedding_bias/sgns/1800-vocab.pkl', 'rb') as f:\n",
    "    vocab_pkl = pickle.load(f)\n",
    "\n",
    "\n",
    "word_to_embedding = {word: embeddings_npy[i] for i, word in enumerate(vocab_pkl)}\n",
    "\n",
    "embeddings_npy = np.load('/Users/parkermoesta/Library/Mobile Documents/com~apple~CloudDocs/NLP_projects/Word Embedding Biases/NLP_word_embedding_bias/sgns/1800-w.npy')\n",
    "\n",
    "\n",
    "# Normalize the embeddings\n",
    "def normalize_embeddings(embeddings):\n",
    "    norms = np.linalg.norm(embeddings, axis=1, keepdims=True)\n",
    "    return embeddings / norms\n",
    "\n",
    "# Normalizing the embeddings\n",
    "normalized_embeddings = normalize_embeddings(embeddings_npy)\n",
    "\n",
    "gender_direction = normalized_embeddings[\"he\"] - normalized_embeddings[\"she\"]\n",
    "\n",
    "def gender_bias_score(word, embeddings, gender_direction):\n",
    "    return np.dot(embeddings[word], gender_direction)\n",
    "\n",
    "word_list = [\"doctor\", \"nurse\", \"engineer\", \"teacher\"]\n",
    "bias_scores = {word: gender_bias_score(word, normalized_embeddings, gender_direction) for word in word_list}\n",
    "print(bias_scores)\n"
   ]
  },
  {
   "cell_type": "code",
   "execution_count": 30,
   "metadata": {},
   "outputs": [],
   "source": [
    "# Normalizing the embeddings\n",
    "normalized_embeddings = normalize_embeddings(embeddings_npy)"
   ]
  },
  {
   "cell_type": "code",
   "execution_count": 31,
   "metadata": {},
   "outputs": [
    {
     "ename": "IndexError",
     "evalue": "only integers, slices (`:`), ellipsis (`...`), numpy.newaxis (`None`) and integer or boolean arrays are valid indices",
     "output_type": "error",
     "traceback": [
      "\u001b[0;31m---------------------------------------------------------------------------\u001b[0m",
      "\u001b[0;31mIndexError\u001b[0m                                Traceback (most recent call last)",
      "Cell \u001b[0;32mIn[31], line 1\u001b[0m\n\u001b[0;32m----> 1\u001b[0m gender_direction \u001b[38;5;241m=\u001b[39m \u001b[43mnormalized_embeddings\u001b[49m\u001b[43m[\u001b[49m\u001b[38;5;124;43m\"\u001b[39;49m\u001b[38;5;124;43mhe\u001b[39;49m\u001b[38;5;124;43m\"\u001b[39;49m\u001b[43m]\u001b[49m \u001b[38;5;241m-\u001b[39m normalized_embeddings[\u001b[38;5;124m\"\u001b[39m\u001b[38;5;124mshe\u001b[39m\u001b[38;5;124m\"\u001b[39m]\n",
      "\u001b[0;31mIndexError\u001b[0m: only integers, slices (`:`), ellipsis (`...`), numpy.newaxis (`None`) and integer or boolean arrays are valid indices"
     ]
    }
   ],
   "source": [
    "gender_direction = normalized_embeddings[\"he\"] - normalized_embeddings[\"she\"]\n"
   ]
  },
  {
   "cell_type": "code",
   "execution_count": 38,
   "metadata": {},
   "outputs": [
    {
     "name": "stdout",
     "output_type": "stream",
     "text": [
      "{'doctor': 0.062371756605268065, 'nurse': -0.2614263184726271, 'engineer': 0.1860039892610614, 'teacher': 0.1835548926845095}\n"
     ]
    },
    {
     "name": "stderr",
     "output_type": "stream",
     "text": [
      "/var/folders/l0/978kqtls1gb5jnv3rvxtjpvh0000gn/T/ipykernel_90527/3748982064.py:15: RuntimeWarning: invalid value encountered in true_divide\n",
      "  return embeddings / norms\n"
     ]
    },
    {
     "data": {
      "image/png": "[encoded data removed]",
      "text/plain": [
       "<Figure size 432x288 with 1 Axes>"
      ]
     },
     "metadata": {
      "needs_background": "light"
     },
     "output_type": "display_data"
    }
   ],
   "source": [
    "import pickle\n",
    "import numpy as np\n",
    "import matplotlib.pyplot as plt\n",
    "\n",
    "with open('/Users/parkermoesta/Library/Mobile Documents/com~apple~CloudDocs/NLP_projects/Word Embedding Biases/NLP_word_embedding_bias/sgns/1800-vocab.pkl', 'rb') as f:\n",
    "    vocab_pkl = pickle.load(f)\n",
    "\n",
    "embeddings_npy = np.load('/Users/parkermoesta/Library/Mobile Documents/com~apple~CloudDocs/NLP_projects/Word Embedding Biases/NLP_word_embedding_bias/sgns/1800-w.npy')\n",
    "\n",
    "word_to_embedding = {word: embeddings_npy[i] for i, word in enumerate(vocab_pkl)}\n",
    "\n",
    "# Normalize the embeddings\n",
    "def normalize_embeddings(embeddings):\n",
    "    norms = np.linalg.norm(embeddings, axis=1, keepdims=True)\n",
    "    return embeddings / norms\n",
    "\n",
    "# Normalizing the embeddings\n",
    "normalized_embeddings = normalize_embeddings(embeddings_npy)\n",
    "\n",
    "gender_direction = normalized_embeddings[vocab_pkl.index(\"he\")] - normalized_embeddings[vocab_pkl.index(\"she\")]\n",
    "\n",
    "def gender_bias_score(word, embeddings, gender_direction, vocab):\n",
    "    return np.dot(embeddings[vocab.index(word)], gender_direction)\n",
    "\n",
    "word_list = [\"doctor\", \"nurse\", \"engineer\", \"teacher\"]\n",
    "bias_scores = {word: gender_bias_score(word, normalized_embeddings, gender_direction, vocab_pkl) for word in word_list}\n",
    "print(bias_scores)\n",
    "\n",
    "# Visualization\n",
    "words = list(bias_scores.keys())\n",
    "scores = list(bias_scores.values())\n",
    "\n",
    "plt.bar(words, scores)\n",
    "plt.title(\"Gender Bias Scores\")\n",
    "plt.xlabel(\"Words\")\n",
    "plt.ylabel(\"Bias Score\")\n",
    "plt.show()"
   ]
  },
  {
   "cell_type": "code",
   "execution_count": null,
   "metadata": {},
   "outputs": [],
   "source": []
  }
 ],
 "metadata": {
  "kernelspec": {
   "display_name": "Python 3.8.2 ('base')",
   "language": "python",
   "name": "python3"
  },
  "language_info": {
   "codemirror_mode": {
    "name": "ipython",
    "version": 3
   },
   "file_extension": ".py",
   "mimetype": "text/x-python",
   "name": "python",
   "nbconvert_exporter": "python",
   "pygments_lexer": "ipython3",
   "version": "3.8.2"
  },
  "orig_nbformat": 4,
  "vscode": {
   "interpreter": {
    "hash": "6c60168b9f16e3c27b43fa31693577edbd6bd405a5bec1e906823f922852fa34"
   }
  }
 },
 "nbformat": 4,
 "nbformat_minor": 2
}
